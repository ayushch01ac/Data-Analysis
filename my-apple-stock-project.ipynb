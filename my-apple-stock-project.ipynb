{
 "cells": [
  {
   "cell_type": "markdown",
   "metadata": {},
   "source": [
    "# Analysis of Apple Stock Data \n",
    "\n",
    "This project has analysed the stock prices of Apple(AAPL) from past 10 years. It depicts the change in the highs and lows of the stock price in a day and see if there is some pattern to it. The volume purchased has also been taken into account."
   ]
  },
  {
   "cell_type": "markdown",
   "metadata": {},
   "source": [
    "### How to run the code\n",
    "\n",
    "This is an executable [*Jupyter notebook*](https://jupyter.org) hosted on [Jovian.ml](https://www.jovian.ml), a platform for sharing data science projects. You can run and experiment with the code in a couple of ways: *using free online resources* (recommended) or *on your own computer*.\n",
    "\n",
    "#### Option 1: Running using free online resources (1-click, recommended)\n",
    "\n",
    "The easiest way to start executing this notebook is to click the \"Run\" button at the top of this page, and select \"Run on Binder\". This will run the notebook on [mybinder.org](https://mybinder.org), a free online service for running Jupyter notebooks. You can also select \"Run on Colab\" or \"Run on Kaggle\".\n",
    "\n",
    "\n",
    "#### Option 2: Running on your computer locally\n",
    "\n",
    "1. Install Conda by [following these instructions](https://conda.io/projects/conda/en/latest/user-guide/install/index.html). Add Conda binaries to your system `PATH`, so you can use the `conda` command on your terminal.\n",
    "\n",
    "2. Create a Conda environment and install the required libraries by running these commands on the terminal:\n",
    "\n",
    "```\n",
    "conda create -n zerotopandas -y python=3.8 \n",
    "conda activate zerotopandas\n",
    "pip install jovian jupyter numpy pandas matplotlib seaborn opendatasets --upgrade\n",
    "```\n",
    "\n",
    "3. Press the \"Clone\" button above to copy the command for downloading the notebook, and run it on the terminal. This will create a new directory and download the notebook. The command will look something like this:\n",
    "\n",
    "```\n",
    "jovian clone notebook-owner/notebook-id\n",
    "```\n",
    "\n",
    "\n",
    "\n",
    "4. Enter the newly created directory using `cd directory-name` and start the Jupyter notebook.\n",
    "\n",
    "```\n",
    "jupyter notebook\n",
    "```\n",
    "\n",
    "You can now access Jupyter's web interface by clicking the link that shows up on the terminal or by visiting http://localhost:8888 on your browser. Click on the notebook file (it has a `.ipynb` extension) to open it.\n"
   ]
  },
  {
   "cell_type": "markdown",
   "metadata": {},
   "source": [
    "## Downloading the Dataset\n",
    "\n",
    "Firstly find a suitable dataset from kaggle in csv format according to your interest. This data should have a minimum of 3 columns and 150 rows so that we can derive some meaningful results from it. The dataset can be downloaded using opendatasets python library."
   ]
  },
  {
   "cell_type": "code",
   "execution_count": 2,
   "metadata": {},
   "outputs": [],
   "source": [
    "!pip install jovian opendatasets --upgrade --quiet"
   ]
  },
  {
   "cell_type": "markdown",
   "metadata": {},
   "source": [
    "Let's begin by downloading the data, and listing the files within the dataset."
   ]
  },
  {
   "cell_type": "code",
   "execution_count": 3,
   "metadata": {},
   "outputs": [],
   "source": [
    "dataset_url = 'https://www.kaggle.com/datasets/tarunpaparaju/apple-aapl-historical-stock-data' "
   ]
  },
  {
   "cell_type": "code",
   "execution_count": 4,
   "metadata": {},
   "outputs": [
    {
     "name": "stdout",
     "output_type": "stream",
     "text": [
      "Please provide your Kaggle credentials to download this dataset. Learn more: http://bit.ly/kaggle-creds\n",
      "Your Kaggle username: ayushch\n",
      "Your Kaggle Key: ········\n",
      "Downloading apple-aapl-historical-stock-data.zip to ./apple-aapl-historical-stock-data\n"
     ]
    },
    {
     "name": "stderr",
     "output_type": "stream",
     "text": [
      "100%|██████████| 49.5k/49.5k [00:00<00:00, 28.6MB/s]"
     ]
    },
    {
     "name": "stdout",
     "output_type": "stream",
     "text": [
      "\n"
     ]
    },
    {
     "name": "stderr",
     "output_type": "stream",
     "text": [
      "\n"
     ]
    }
   ],
   "source": [
    "import opendatasets as od\n",
    "od.download(dataset_url)"
   ]
  },
  {
   "cell_type": "markdown",
   "metadata": {},
   "source": [
    "The dataset has been downloaded and extracted."
   ]
  },
  {
   "cell_type": "code",
   "execution_count": 5,
   "metadata": {},
   "outputs": [],
   "source": [
    "data_dir = './apple-aapl-historical-stock-data'"
   ]
  },
  {
   "cell_type": "code",
   "execution_count": 6,
   "metadata": {},
   "outputs": [
    {
     "data": {
      "text/plain": [
       "['HistoricalQuotes.csv']"
      ]
     },
     "execution_count": 6,
     "metadata": {},
     "output_type": "execute_result"
    }
   ],
   "source": [
    "import os\n",
    "os.listdir(data_dir)"
   ]
  },
  {
   "cell_type": "markdown",
   "metadata": {},
   "source": [
    "Let us save and upload our work to Jovian before continuing."
   ]
  },
  {
   "cell_type": "code",
   "execution_count": 7,
   "metadata": {},
   "outputs": [],
   "source": [
    "project_name = \"my-apple-stock-project\""
   ]
  },
  {
   "cell_type": "code",
   "execution_count": 8,
   "metadata": {},
   "outputs": [],
   "source": [
    "!pip install jovian --upgrade -q"
   ]
  },
  {
   "cell_type": "code",
   "execution_count": 9,
   "metadata": {},
   "outputs": [],
   "source": [
    "import jovian"
   ]
  },
  {
   "cell_type": "code",
   "execution_count": 10,
   "metadata": {},
   "outputs": [
    {
     "data": {
      "application/javascript": [
       "window.require && require([\"base/js/namespace\"],function(Jupyter){Jupyter.notebook.save_checkpoint()})"
      ],
      "text/plain": [
       "<IPython.core.display.Javascript object>"
      ]
     },
     "metadata": {},
     "output_type": "display_data"
    },
    {
     "name": "stdout",
     "output_type": "stream",
     "text": [
      "[jovian] Updating notebook \"ayushch01ac/my-apple-stock-project\" on https://jovian.ai\u001b[0m\n",
      "[jovian] Committed successfully! https://jovian.ai/ayushch01ac/my-apple-stock-project\u001b[0m\n"
     ]
    },
    {
     "data": {
      "text/plain": [
       "'https://jovian.ai/ayushch01ac/my-apple-stock-project'"
      ]
     },
     "execution_count": 10,
     "metadata": {},
     "output_type": "execute_result"
    }
   ],
   "source": [
    "jovian.commit(project=project_name)"
   ]
  },
  {
   "cell_type": "markdown",
   "metadata": {},
   "source": [
    "## Data Preparation and Cleaning\n",
    "\n",
    "We will load the dataset into stock_raw using pandas as a dataframe. We will then explore the number of rows, columns\n",
    "\n"
   ]
  },
  {
   "cell_type": "markdown",
   "metadata": {},
   "source": [
    "> Instructions (delete this cell):\n",
    ">\n",
    "> - Load the dataset into a data frame using Pandas\n",
    "> - Explore the number of rows & columns, ranges of values etc.\n",
    "> - Handle missing, incorrect and invalid data\n",
    "> - Perform any additional steps (parsing dates, creating additional columns, merging multiple dataset etc.)"
   ]
  },
  {
   "cell_type": "code",
   "execution_count": 11,
   "metadata": {},
   "outputs": [],
   "source": [
    "import pandas as pd"
   ]
  },
  {
   "cell_type": "code",
   "execution_count": 12,
   "metadata": {},
   "outputs": [],
   "source": [
    "stock_raw= pd.read_csv(data_dir + '/HistoricalQuotes.csv')"
   ]
  },
  {
   "cell_type": "code",
   "execution_count": 13,
   "metadata": {},
   "outputs": [
    {
     "data": {
      "text/html": [
       "<div>\n",
       "<style scoped>\n",
       "    .dataframe tbody tr th:only-of-type {\n",
       "        vertical-align: middle;\n",
       "    }\n",
       "\n",
       "    .dataframe tbody tr th {\n",
       "        vertical-align: top;\n",
       "    }\n",
       "\n",
       "    .dataframe thead th {\n",
       "        text-align: right;\n",
       "    }\n",
       "</style>\n",
       "<table border=\"1\" class=\"dataframe\">\n",
       "  <thead>\n",
       "    <tr style=\"text-align: right;\">\n",
       "      <th></th>\n",
       "      <th>Date</th>\n",
       "      <th>Close/Last</th>\n",
       "      <th>Volume</th>\n",
       "      <th>Open</th>\n",
       "      <th>High</th>\n",
       "      <th>Low</th>\n",
       "    </tr>\n",
       "  </thead>\n",
       "  <tbody>\n",
       "    <tr>\n",
       "      <th>0</th>\n",
       "      <td>02/28/2020</td>\n",
       "      <td>$273.36</td>\n",
       "      <td>106721200</td>\n",
       "      <td>$257.26</td>\n",
       "      <td>$278.41</td>\n",
       "      <td>$256.37</td>\n",
       "    </tr>\n",
       "    <tr>\n",
       "      <th>1</th>\n",
       "      <td>02/27/2020</td>\n",
       "      <td>$273.52</td>\n",
       "      <td>80151380</td>\n",
       "      <td>$281.1</td>\n",
       "      <td>$286</td>\n",
       "      <td>$272.96</td>\n",
       "    </tr>\n",
       "    <tr>\n",
       "      <th>2</th>\n",
       "      <td>02/26/2020</td>\n",
       "      <td>$292.65</td>\n",
       "      <td>49678430</td>\n",
       "      <td>$286.53</td>\n",
       "      <td>$297.88</td>\n",
       "      <td>$286.5</td>\n",
       "    </tr>\n",
       "    <tr>\n",
       "      <th>3</th>\n",
       "      <td>02/25/2020</td>\n",
       "      <td>$288.08</td>\n",
       "      <td>57668360</td>\n",
       "      <td>$300.95</td>\n",
       "      <td>$302.53</td>\n",
       "      <td>$286.13</td>\n",
       "    </tr>\n",
       "    <tr>\n",
       "      <th>4</th>\n",
       "      <td>02/24/2020</td>\n",
       "      <td>$298.18</td>\n",
       "      <td>55548830</td>\n",
       "      <td>$297.26</td>\n",
       "      <td>$304.18</td>\n",
       "      <td>$289.23</td>\n",
       "    </tr>\n",
       "    <tr>\n",
       "      <th>...</th>\n",
       "      <td>...</td>\n",
       "      <td>...</td>\n",
       "      <td>...</td>\n",
       "      <td>...</td>\n",
       "      <td>...</td>\n",
       "      <td>...</td>\n",
       "    </tr>\n",
       "    <tr>\n",
       "      <th>2513</th>\n",
       "      <td>03/05/2010</td>\n",
       "      <td>$31.2786</td>\n",
       "      <td>224647427</td>\n",
       "      <td>$30.7057</td>\n",
       "      <td>$31.3857</td>\n",
       "      <td>$30.6614</td>\n",
       "    </tr>\n",
       "    <tr>\n",
       "      <th>2514</th>\n",
       "      <td>03/04/2010</td>\n",
       "      <td>$30.1014</td>\n",
       "      <td>89591907</td>\n",
       "      <td>$29.8971</td>\n",
       "      <td>$30.1314</td>\n",
       "      <td>$29.8043</td>\n",
       "    </tr>\n",
       "    <tr>\n",
       "      <th>2515</th>\n",
       "      <td>03/03/2010</td>\n",
       "      <td>$29.9043</td>\n",
       "      <td>92846488</td>\n",
       "      <td>$29.8486</td>\n",
       "      <td>$29.9814</td>\n",
       "      <td>$29.7057</td>\n",
       "    </tr>\n",
       "    <tr>\n",
       "      <th>2516</th>\n",
       "      <td>03/02/2010</td>\n",
       "      <td>$29.8357</td>\n",
       "      <td>141486282</td>\n",
       "      <td>$29.99</td>\n",
       "      <td>$30.1186</td>\n",
       "      <td>$29.6771</td>\n",
       "    </tr>\n",
       "    <tr>\n",
       "      <th>2517</th>\n",
       "      <td>03/01/2010</td>\n",
       "      <td>$29.8557</td>\n",
       "      <td>137312041</td>\n",
       "      <td>$29.3928</td>\n",
       "      <td>$29.9286</td>\n",
       "      <td>$29.35</td>\n",
       "    </tr>\n",
       "  </tbody>\n",
       "</table>\n",
       "<p>2518 rows × 6 columns</p>\n",
       "</div>"
      ],
      "text/plain": [
       "            Date  Close/Last     Volume       Open       High        Low\n",
       "0     02/28/2020     $273.36  106721200    $257.26    $278.41    $256.37\n",
       "1     02/27/2020     $273.52   80151380     $281.1       $286    $272.96\n",
       "2     02/26/2020     $292.65   49678430    $286.53    $297.88     $286.5\n",
       "3     02/25/2020     $288.08   57668360    $300.95    $302.53    $286.13\n",
       "4     02/24/2020     $298.18   55548830    $297.26    $304.18    $289.23\n",
       "...          ...         ...        ...        ...        ...        ...\n",
       "2513  03/05/2010    $31.2786  224647427   $30.7057   $31.3857   $30.6614\n",
       "2514  03/04/2010    $30.1014   89591907   $29.8971   $30.1314   $29.8043\n",
       "2515  03/03/2010    $29.9043   92846488   $29.8486   $29.9814   $29.7057\n",
       "2516  03/02/2010    $29.8357  141486282     $29.99   $30.1186   $29.6771\n",
       "2517  03/01/2010    $29.8557  137312041   $29.3928   $29.9286     $29.35\n",
       "\n",
       "[2518 rows x 6 columns]"
      ]
     },
     "execution_count": 13,
     "metadata": {},
     "output_type": "execute_result"
    }
   ],
   "source": [
    "stock_raw"
   ]
  },
  {
   "cell_type": "markdown",
   "metadata": {},
   "source": [
    "This is the data frame that we will be working with."
   ]
  },
  {
   "cell_type": "code",
   "execution_count": 14,
   "metadata": {},
   "outputs": [
    {
     "data": {
      "text/plain": [
       "(2518, 6)"
      ]
     },
     "execution_count": 14,
     "metadata": {},
     "output_type": "execute_result"
    }
   ],
   "source": [
    "stock_raw.shape"
   ]
  },
  {
   "cell_type": "code",
   "execution_count": 15,
   "metadata": {},
   "outputs": [
    {
     "data": {
      "text/html": [
       "<div>\n",
       "<style scoped>\n",
       "    .dataframe tbody tr th:only-of-type {\n",
       "        vertical-align: middle;\n",
       "    }\n",
       "\n",
       "    .dataframe tbody tr th {\n",
       "        vertical-align: top;\n",
       "    }\n",
       "\n",
       "    .dataframe thead th {\n",
       "        text-align: right;\n",
       "    }\n",
       "</style>\n",
       "<table border=\"1\" class=\"dataframe\">\n",
       "  <thead>\n",
       "    <tr style=\"text-align: right;\">\n",
       "      <th></th>\n",
       "      <th>Volume</th>\n",
       "    </tr>\n",
       "  </thead>\n",
       "  <tbody>\n",
       "    <tr>\n",
       "      <th>count</th>\n",
       "      <td>2.518000e+03</td>\n",
       "    </tr>\n",
       "    <tr>\n",
       "      <th>mean</th>\n",
       "      <td>7.258009e+07</td>\n",
       "    </tr>\n",
       "    <tr>\n",
       "      <th>std</th>\n",
       "      <td>5.663113e+07</td>\n",
       "    </tr>\n",
       "    <tr>\n",
       "      <th>min</th>\n",
       "      <td>1.136205e+07</td>\n",
       "    </tr>\n",
       "    <tr>\n",
       "      <th>25%</th>\n",
       "      <td>3.053026e+07</td>\n",
       "    </tr>\n",
       "    <tr>\n",
       "      <th>50%</th>\n",
       "      <td>5.295469e+07</td>\n",
       "    </tr>\n",
       "    <tr>\n",
       "      <th>75%</th>\n",
       "      <td>9.861006e+07</td>\n",
       "    </tr>\n",
       "    <tr>\n",
       "      <th>max</th>\n",
       "      <td>4.624423e+08</td>\n",
       "    </tr>\n",
       "  </tbody>\n",
       "</table>\n",
       "</div>"
      ],
      "text/plain": [
       "             Volume\n",
       "count  2.518000e+03\n",
       "mean   7.258009e+07\n",
       "std    5.663113e+07\n",
       "min    1.136205e+07\n",
       "25%    3.053026e+07\n",
       "50%    5.295469e+07\n",
       "75%    9.861006e+07\n",
       "max    4.624423e+08"
      ]
     },
     "execution_count": 15,
     "metadata": {},
     "output_type": "execute_result"
    }
   ],
   "source": [
    "stock_raw.describe()"
   ]
  },
  {
   "cell_type": "markdown",
   "metadata": {},
   "source": [
    "As only the volume column has integer type value so these operations can only be performed on that column."
   ]
  },
  {
   "cell_type": "code",
   "execution_count": 16,
   "metadata": {},
   "outputs": [],
   "source": [
    "import jovian"
   ]
  },
  {
   "cell_type": "code",
   "execution_count": 17,
   "metadata": {},
   "outputs": [
    {
     "data": {
      "application/javascript": [
       "window.require && require([\"base/js/namespace\"],function(Jupyter){Jupyter.notebook.save_checkpoint()})"
      ],
      "text/plain": [
       "<IPython.core.display.Javascript object>"
      ]
     },
     "metadata": {},
     "output_type": "display_data"
    },
    {
     "name": "stdout",
     "output_type": "stream",
     "text": [
      "[jovian] Updating notebook \"ayushch01ac/my-apple-stock-project\" on https://jovian.ai\u001b[0m\n",
      "[jovian] Committed successfully! https://jovian.ai/ayushch01ac/my-apple-stock-project\u001b[0m\n"
     ]
    },
    {
     "data": {
      "text/plain": [
       "'https://jovian.ai/ayushch01ac/my-apple-stock-project'"
      ]
     },
     "execution_count": 17,
     "metadata": {},
     "output_type": "execute_result"
    }
   ],
   "source": [
    "jovian.commit()"
   ]
  },
  {
   "cell_type": "markdown",
   "metadata": {},
   "source": [
    "## Exploratory Analysis and Visualization\n",
    " \n",
    "We will now analyze the data using graphical representation using matplotlib and seaborn library of python and explore relationships between columns and how one value affects the other value. We will also be exploring the distribution of the values and any insights regarding it will be noted.\n",
    "\n"
   ]
  },
  {
   "cell_type": "markdown",
   "metadata": {},
   "source": [
    "Let's begin by importing`matplotlib.pyplot` and `seaborn`."
   ]
  },
  {
   "cell_type": "code",
   "execution_count": 18,
   "metadata": {},
   "outputs": [],
   "source": [
    "import seaborn as sns\n",
    "import matplotlib\n",
    "import matplotlib.pyplot as plt\n",
    "%matplotlib inline\n",
    "\n",
    "sns.set_style('darkgrid')\n",
    "matplotlib.rcParams['font.size'] = 14\n",
    "matplotlib.rcParams['figure.figsize'] = (9, 5)\n",
    "matplotlib.rcParams['figure.facecolor'] = '#00000000'"
   ]
  },
  {
   "cell_type": "markdown",
   "metadata": {},
   "source": [
    "The low and stock stock prices of every day are plotted below respectively to see the change accordingly"
   ]
  },
  {
   "cell_type": "code",
   "execution_count": 19,
   "metadata": {},
   "outputs": [],
   "source": [
    "stock_raw[stock_raw.columns[1:]] = stock_raw[stock_raw.columns[1:]].replace('[\\$,]', '', regex=True).astype(float)"
   ]
  },
  {
   "cell_type": "markdown",
   "metadata": {},
   "source": [
    "We need the values of prices of stock in float type so above line has been used to covert dollars into float type."
   ]
  },
  {
   "cell_type": "code",
   "execution_count": 20,
   "metadata": {},
   "outputs": [
    {
     "data": {
      "text/plain": [
       "<matplotlib.collections.PathCollection at 0x7f4f8d6a24f0>"
      ]
     },
     "execution_count": 20,
     "metadata": {},
     "output_type": "execute_result"
    },
    {
     "data": {
      "image/png": "[encoded data removed]",
      "text/plain": [
       "<Figure size 648x360 with 1 Axes>"
      ]
     },
     "metadata": {
      "needs_background": "light"
     },
     "output_type": "display_data"
    }
   ],
   "source": [
    "plt.scatter(stock_raw['Date'],stock_raw[' Low'])"
   ]
  },
  {
   "cell_type": "markdown",
   "metadata": {},
   "source": [
    "As the date starts from year 2020 and ends in 2010, the decreasing graph shows that the apple stock has had an increasing trend over the years excluding some time frames."
   ]
  },
  {
   "cell_type": "code",
   "execution_count": 21,
   "metadata": {},
   "outputs": [
    {
     "data": {
      "text/plain": [
       "<matplotlib.collections.PathCollection at 0x7f4f8a5040a0>"
      ]
     },
     "execution_count": 21,
     "metadata": {},
     "output_type": "execute_result"
    },
    {
     "data": {
      "image/png": "[encoded data removed]",
      "text/plain": [
       "<Figure size 648x360 with 1 Axes>"
      ]
     },
     "metadata": {
      "needs_background": "light"
     },
     "output_type": "display_data"
    }
   ],
   "source": [
    "plt.scatter(stock_raw['Date'],stock_raw[' High'])"
   ]
  },
  {
   "cell_type": "markdown",
   "metadata": {},
   "source": [
    "This graph also confirms our previous conclusion that apple stock has had an increasing trend."
   ]
  },
  {
   "cell_type": "code",
   "execution_count": 22,
   "metadata": {},
   "outputs": [
    {
     "data": {
      "text/plain": [
       "[<matplotlib.lines.Line2D at 0x7f4f7f146820>]"
      ]
     },
     "execution_count": 22,
     "metadata": {},
     "output_type": "execute_result"
    },
    {
     "data": {
      "image/png": "[encoded data removed]",
      "text/plain": [
       "<Figure size 648x360 with 1 Axes>"
      ]
     },
     "metadata": {
      "needs_background": "light"
     },
     "output_type": "display_data"
    }
   ],
   "source": [
    "plt.plot(stock_raw['Date'],stock_raw[' Volume'])"
   ]
  },
  {
   "cell_type": "markdown",
   "metadata": {},
   "source": [
    "The above graph shows the amount of volume traded on each day but dates are not visible as this has a large amount of dates included of 10 years."
   ]
  },
  {
   "cell_type": "code",
   "execution_count": 23,
   "metadata": {},
   "outputs": [
    {
     "data": {
      "text/plain": [
       "[<matplotlib.lines.Line2D at 0x7f4f7dd84d00>]"
      ]
     },
     "execution_count": 23,
     "metadata": {},
     "output_type": "execute_result"
    },
    {
     "data": {
      "image/png": "[encoded data removed]",
      "text/plain": [
       "<Figure size 648x360 with 1 Axes>"
      ]
     },
     "metadata": {
      "needs_background": "light"
     },
     "output_type": "display_data"
    }
   ],
   "source": [
    "plt.plot(stock_raw['Date'].head(100),stock_raw[' Open'].head(100))"
   ]
  },
  {
   "cell_type": "markdown",
   "metadata": {},
   "source": [
    "This graph shows the open prices of stocks of the latest 100 dates present in this dataset and it seems that there has been large fluctuations in the prices."
   ]
  },
  {
   "cell_type": "markdown",
   "metadata": {},
   "source": [
    "Let us save and upload our work to Jovian before continuing"
   ]
  },
  {
   "cell_type": "code",
   "execution_count": 24,
   "metadata": {},
   "outputs": [],
   "source": [
    "import jovian"
   ]
  },
  {
   "cell_type": "code",
   "execution_count": 25,
   "metadata": {},
   "outputs": [
    {
     "data": {
      "application/javascript": [
       "window.require && require([\"base/js/namespace\"],function(Jupyter){Jupyter.notebook.save_checkpoint()})"
      ],
      "text/plain": [
       "<IPython.core.display.Javascript object>"
      ]
     },
     "metadata": {},
     "output_type": "display_data"
    },
    {
     "name": "stdout",
     "output_type": "stream",
     "text": [
      "[jovian] Updating notebook \"ayushch01ac/my-apple-stock-project\" on https://jovian.ai\u001b[0m\n",
      "[jovian] Committed successfully! https://jovian.ai/ayushch01ac/my-apple-stock-project\u001b[0m\n"
     ]
    },
    {
     "data": {
      "text/plain": [
       "'https://jovian.ai/ayushch01ac/my-apple-stock-project'"
      ]
     },
     "execution_count": 25,
     "metadata": {},
     "output_type": "execute_result"
    }
   ],
   "source": [
    "jovian.commit()"
   ]
  },
  {
   "cell_type": "markdown",
   "metadata": {},
   "source": [
    "## Asking and Answering Questions\n",
    "\n",
    "Now, we will answer some questions about this project and what it is doing and what is the pattern behind it if there is any.\n",
    "\n"
   ]
  },
  {
   "cell_type": "markdown",
   "metadata": {},
   "source": [
    "#### Q1: What are the 10 days where maximum volume of stocks was traded and their data?"
   ]
  },
  {
   "cell_type": "markdown",
   "metadata": {},
   "source": [
    "We will be using pandas library's sort values function to answer this question"
   ]
  },
  {
   "cell_type": "code",
   "execution_count": 26,
   "metadata": {},
   "outputs": [],
   "source": [
    "total_vol = stock_raw.sort_values(\" Volume\",ascending=False).head(10)"
   ]
  },
  {
   "cell_type": "code",
   "execution_count": 27,
   "metadata": {},
   "outputs": [
    {
     "data": {
      "text/html": [
       "<div>\n",
       "<style scoped>\n",
       "    .dataframe tbody tr th:only-of-type {\n",
       "        vertical-align: middle;\n",
       "    }\n",
       "\n",
       "    .dataframe tbody tr th {\n",
       "        vertical-align: top;\n",
       "    }\n",
       "\n",
       "    .dataframe thead th {\n",
       "        text-align: right;\n",
       "    }\n",
       "</style>\n",
       "<table border=\"1\" class=\"dataframe\">\n",
       "  <thead>\n",
       "    <tr style=\"text-align: right;\">\n",
       "      <th></th>\n",
       "      <th>Date</th>\n",
       "      <th>Close/Last</th>\n",
       "      <th>Volume</th>\n",
       "      <th>Open</th>\n",
       "      <th>High</th>\n",
       "      <th>Low</th>\n",
       "    </tr>\n",
       "  </thead>\n",
       "  <tbody>\n",
       "    <tr>\n",
       "      <th>2293</th>\n",
       "      <td>01/18/2011</td>\n",
       "      <td>48.6643</td>\n",
       "      <td>462442329.0</td>\n",
       "      <td>47.0743</td>\n",
       "      <td>49.2518</td>\n",
       "      <td>46.5714</td>\n",
       "    </tr>\n",
       "    <tr>\n",
       "      <th>2469</th>\n",
       "      <td>05/07/2010</td>\n",
       "      <td>33.6943</td>\n",
       "      <td>418562326.0</td>\n",
       "      <td>34.8157</td>\n",
       "      <td>35.2243</td>\n",
       "      <td>32.1728</td>\n",
       "    </tr>\n",
       "    <tr>\n",
       "      <th>2021</th>\n",
       "      <td>02/15/2012</td>\n",
       "      <td>71.0957</td>\n",
       "      <td>374517892.0</td>\n",
       "      <td>73.4657</td>\n",
       "      <td>75.1843</td>\n",
       "      <td>70.9843</td>\n",
       "    </tr>\n",
       "    <tr>\n",
       "      <th>1786</th>\n",
       "      <td>01/24/2013</td>\n",
       "      <td>64.3571</td>\n",
       "      <td>364459099.0</td>\n",
       "      <td>65.7143</td>\n",
       "      <td>66.5328</td>\n",
       "      <td>64.3214</td>\n",
       "    </tr>\n",
       "    <tr>\n",
       "      <th>2002</th>\n",
       "      <td>03/14/2012</td>\n",
       "      <td>84.2257</td>\n",
       "      <td>353599156.0</td>\n",
       "      <td>82.5785</td>\n",
       "      <td>84.9600</td>\n",
       "      <td>82.2000</td>\n",
       "    </tr>\n",
       "    <tr>\n",
       "      <th>2470</th>\n",
       "      <td>05/06/2010</td>\n",
       "      <td>35.1786</td>\n",
       "      <td>319584886.0</td>\n",
       "      <td>36.2614</td>\n",
       "      <td>36.8928</td>\n",
       "      <td>28.4643</td>\n",
       "    </tr>\n",
       "    <tr>\n",
       "      <th>2460</th>\n",
       "      <td>05/20/2010</td>\n",
       "      <td>33.9657</td>\n",
       "      <td>319497456.0</td>\n",
       "      <td>34.5543</td>\n",
       "      <td>34.8357</td>\n",
       "      <td>33.7443</td>\n",
       "    </tr>\n",
       "    <tr>\n",
       "      <th>1831</th>\n",
       "      <td>11/16/2012</td>\n",
       "      <td>75.3825</td>\n",
       "      <td>316194785.0</td>\n",
       "      <td>75.0285</td>\n",
       "      <td>75.7143</td>\n",
       "      <td>72.2500</td>\n",
       "    </tr>\n",
       "    <tr>\n",
       "      <th>2113</th>\n",
       "      <td>10/04/2011</td>\n",
       "      <td>53.2143</td>\n",
       "      <td>308080802.0</td>\n",
       "      <td>53.5100</td>\n",
       "      <td>54.5428</td>\n",
       "      <td>50.6057</td>\n",
       "    </tr>\n",
       "    <tr>\n",
       "      <th>2355</th>\n",
       "      <td>10/19/2010</td>\n",
       "      <td>44.2128</td>\n",
       "      <td>307005952.0</td>\n",
       "      <td>43.3428</td>\n",
       "      <td>44.8243</td>\n",
       "      <td>42.8600</td>\n",
       "    </tr>\n",
       "  </tbody>\n",
       "</table>\n",
       "</div>"
      ],
      "text/plain": [
       "            Date   Close/Last       Volume     Open     High      Low\n",
       "2293  01/18/2011      48.6643  462442329.0  47.0743  49.2518  46.5714\n",
       "2469  05/07/2010      33.6943  418562326.0  34.8157  35.2243  32.1728\n",
       "2021  02/15/2012      71.0957  374517892.0  73.4657  75.1843  70.9843\n",
       "1786  01/24/2013      64.3571  364459099.0  65.7143  66.5328  64.3214\n",
       "2002  03/14/2012      84.2257  353599156.0  82.5785  84.9600  82.2000\n",
       "2470  05/06/2010      35.1786  319584886.0  36.2614  36.8928  28.4643\n",
       "2460  05/20/2010      33.9657  319497456.0  34.5543  34.8357  33.7443\n",
       "1831  11/16/2012      75.3825  316194785.0  75.0285  75.7143  72.2500\n",
       "2113  10/04/2011      53.2143  308080802.0  53.5100  54.5428  50.6057\n",
       "2355  10/19/2010      44.2128  307005952.0  43.3428  44.8243  42.8600"
      ]
     },
     "execution_count": 27,
     "metadata": {},
     "output_type": "execute_result"
    }
   ],
   "source": [
    "total_vol"
   ]
  },
  {
   "cell_type": "markdown",
   "metadata": {},
   "source": [
    "This dataframe clearly shows the 10 days when highest volume of stock was traded from 462442329 (the highest value) to 10th highest value 307005952"
   ]
  },
  {
   "cell_type": "markdown",
   "metadata": {},
   "source": [
    "#### Q2: What are the highest 20 differences in low and high from this data i.e. highest change or fluctuation of stock prices in a day?"
   ]
  },
  {
   "cell_type": "code",
   "execution_count": 34,
   "metadata": {},
   "outputs": [
    {
     "data": {
      "text/html": [
       "<div>\n",
       "<style scoped>\n",
       "    .dataframe tbody tr th:only-of-type {\n",
       "        vertical-align: middle;\n",
       "    }\n",
       "\n",
       "    .dataframe tbody tr th {\n",
       "        vertical-align: top;\n",
       "    }\n",
       "\n",
       "    .dataframe thead th {\n",
       "        text-align: right;\n",
       "    }\n",
       "</style>\n",
       "<table border=\"1\" class=\"dataframe\">\n",
       "  <thead>\n",
       "    <tr style=\"text-align: right;\">\n",
       "      <th></th>\n",
       "      <th>Date</th>\n",
       "      <th>Close/Last</th>\n",
       "      <th>Volume</th>\n",
       "      <th>Open</th>\n",
       "      <th>High</th>\n",
       "      <th>Low</th>\n",
       "    </tr>\n",
       "  </thead>\n",
       "  <tbody>\n",
       "    <tr>\n",
       "      <th>0</th>\n",
       "      <td>02/28/2020</td>\n",
       "      <td>273.3600</td>\n",
       "      <td>106721200.0</td>\n",
       "      <td>257.2600</td>\n",
       "      <td>278.4100</td>\n",
       "      <td>256.3700</td>\n",
       "    </tr>\n",
       "    <tr>\n",
       "      <th>1</th>\n",
       "      <td>02/27/2020</td>\n",
       "      <td>273.5200</td>\n",
       "      <td>80151380.0</td>\n",
       "      <td>281.1000</td>\n",
       "      <td>286.0000</td>\n",
       "      <td>272.9600</td>\n",
       "    </tr>\n",
       "    <tr>\n",
       "      <th>2</th>\n",
       "      <td>02/26/2020</td>\n",
       "      <td>292.6500</td>\n",
       "      <td>49678430.0</td>\n",
       "      <td>286.5300</td>\n",
       "      <td>297.8800</td>\n",
       "      <td>286.5000</td>\n",
       "    </tr>\n",
       "    <tr>\n",
       "      <th>3</th>\n",
       "      <td>02/25/2020</td>\n",
       "      <td>288.0800</td>\n",
       "      <td>57668360.0</td>\n",
       "      <td>300.9500</td>\n",
       "      <td>302.5300</td>\n",
       "      <td>286.1300</td>\n",
       "    </tr>\n",
       "    <tr>\n",
       "      <th>4</th>\n",
       "      <td>02/24/2020</td>\n",
       "      <td>298.1800</td>\n",
       "      <td>55548830.0</td>\n",
       "      <td>297.2600</td>\n",
       "      <td>304.1800</td>\n",
       "      <td>289.2300</td>\n",
       "    </tr>\n",
       "    <tr>\n",
       "      <th>...</th>\n",
       "      <td>...</td>\n",
       "      <td>...</td>\n",
       "      <td>...</td>\n",
       "      <td>...</td>\n",
       "      <td>...</td>\n",
       "      <td>...</td>\n",
       "    </tr>\n",
       "    <tr>\n",
       "      <th>2513</th>\n",
       "      <td>03/05/2010</td>\n",
       "      <td>31.2786</td>\n",
       "      <td>224647427.0</td>\n",
       "      <td>30.7057</td>\n",
       "      <td>31.3857</td>\n",
       "      <td>30.6614</td>\n",
       "    </tr>\n",
       "    <tr>\n",
       "      <th>2514</th>\n",
       "      <td>03/04/2010</td>\n",
       "      <td>30.1014</td>\n",
       "      <td>89591907.0</td>\n",
       "      <td>29.8971</td>\n",
       "      <td>30.1314</td>\n",
       "      <td>29.8043</td>\n",
       "    </tr>\n",
       "    <tr>\n",
       "      <th>2515</th>\n",
       "      <td>03/03/2010</td>\n",
       "      <td>29.9043</td>\n",
       "      <td>92846488.0</td>\n",
       "      <td>29.8486</td>\n",
       "      <td>29.9814</td>\n",
       "      <td>29.7057</td>\n",
       "    </tr>\n",
       "    <tr>\n",
       "      <th>2516</th>\n",
       "      <td>03/02/2010</td>\n",
       "      <td>29.8357</td>\n",
       "      <td>141486282.0</td>\n",
       "      <td>29.9900</td>\n",
       "      <td>30.1186</td>\n",
       "      <td>29.6771</td>\n",
       "    </tr>\n",
       "    <tr>\n",
       "      <th>2517</th>\n",
       "      <td>03/01/2010</td>\n",
       "      <td>29.8557</td>\n",
       "      <td>137312041.0</td>\n",
       "      <td>29.3928</td>\n",
       "      <td>29.9286</td>\n",
       "      <td>29.3500</td>\n",
       "    </tr>\n",
       "  </tbody>\n",
       "</table>\n",
       "<p>2518 rows × 6 columns</p>\n",
       "</div>"
      ],
      "text/plain": [
       "            Date   Close/Last       Volume      Open      High       Low\n",
       "0     02/28/2020     273.3600  106721200.0  257.2600  278.4100  256.3700\n",
       "1     02/27/2020     273.5200   80151380.0  281.1000  286.0000  272.9600\n",
       "2     02/26/2020     292.6500   49678430.0  286.5300  297.8800  286.5000\n",
       "3     02/25/2020     288.0800   57668360.0  300.9500  302.5300  286.1300\n",
       "4     02/24/2020     298.1800   55548830.0  297.2600  304.1800  289.2300\n",
       "...          ...          ...          ...       ...       ...       ...\n",
       "2513  03/05/2010      31.2786  224647427.0   30.7057   31.3857   30.6614\n",
       "2514  03/04/2010      30.1014   89591907.0   29.8971   30.1314   29.8043\n",
       "2515  03/03/2010      29.9043   92846488.0   29.8486   29.9814   29.7057\n",
       "2516  03/02/2010      29.8357  141486282.0   29.9900   30.1186   29.6771\n",
       "2517  03/01/2010      29.8557  137312041.0   29.3928   29.9286   29.3500\n",
       "\n",
       "[2518 rows x 6 columns]"
      ]
     },
     "execution_count": 34,
     "metadata": {},
     "output_type": "execute_result"
    }
   ],
   "source": [
    "stock_raw"
   ]
  },
  {
   "cell_type": "code",
   "execution_count": 35,
   "metadata": {},
   "outputs": [],
   "source": [
    "diff =stock_raw[' High']-stock_raw[' Low']"
   ]
  },
  {
   "cell_type": "markdown",
   "metadata": {},
   "source": [
    "We now have the difference in values of low and high"
   ]
  },
  {
   "cell_type": "code",
   "execution_count": 33,
   "metadata": {},
   "outputs": [
    {
     "data": {
      "text/plain": [
       "0       22.0400\n",
       "1136    16.8000\n",
       "3       16.4000\n",
       "4       14.9500\n",
       "19      14.3900\n",
       "334     13.6000\n",
       "1       13.0400\n",
       "81      11.9100\n",
       "2       11.3800\n",
       "137     11.3100\n",
       "145     11.2865\n",
       "18      11.2700\n",
       "129     11.0510\n",
       "295     10.5100\n",
       "347     10.3000\n",
       "146     10.0700\n",
       "5        9.9500\n",
       "518      9.7200\n",
       "337      9.6900\n",
       "684      9.1700\n",
       "dtype: float64"
      ]
     },
     "execution_count": 33,
     "metadata": {},
     "output_type": "execute_result"
    }
   ],
   "source": [
    "diff.sort_values(ascending=False).head(20)"
   ]
  },
  {
   "cell_type": "markdown",
   "metadata": {},
   "source": [
    "These are the highest changes in low and high showing the highest variations in stock prices in a day.  "
   ]
  },
  {
   "cell_type": "markdown",
   "metadata": {},
   "source": [
    "#### Q3:Show the data of stocks 10 days from the beginning of this dataset."
   ]
  },
  {
   "cell_type": "code",
   "execution_count": 36,
   "metadata": {},
   "outputs": [],
   "source": [
    "begin_stock = stock_raw.tail(10)"
   ]
  },
  {
   "cell_type": "code",
   "execution_count": 37,
   "metadata": {},
   "outputs": [
    {
     "data": {
      "text/html": [
       "<div>\n",
       "<style scoped>\n",
       "    .dataframe tbody tr th:only-of-type {\n",
       "        vertical-align: middle;\n",
       "    }\n",
       "\n",
       "    .dataframe tbody tr th {\n",
       "        vertical-align: top;\n",
       "    }\n",
       "\n",
       "    .dataframe thead th {\n",
       "        text-align: right;\n",
       "    }\n",
       "</style>\n",
       "<table border=\"1\" class=\"dataframe\">\n",
       "  <thead>\n",
       "    <tr style=\"text-align: right;\">\n",
       "      <th></th>\n",
       "      <th>Date</th>\n",
       "      <th>Close/Last</th>\n",
       "      <th>Volume</th>\n",
       "      <th>Open</th>\n",
       "      <th>High</th>\n",
       "      <th>Low</th>\n",
       "    </tr>\n",
       "  </thead>\n",
       "  <tbody>\n",
       "    <tr>\n",
       "      <th>2508</th>\n",
       "      <td>03/12/2010</td>\n",
       "      <td>32.3714</td>\n",
       "      <td>103841951.0</td>\n",
       "      <td>32.4814</td>\n",
       "      <td>32.5328</td>\n",
       "      <td>32.2500</td>\n",
       "    </tr>\n",
       "    <tr>\n",
       "      <th>2509</th>\n",
       "      <td>03/11/2010</td>\n",
       "      <td>32.2143</td>\n",
       "      <td>101209110.0</td>\n",
       "      <td>31.9871</td>\n",
       "      <td>32.2143</td>\n",
       "      <td>31.9028</td>\n",
       "    </tr>\n",
       "    <tr>\n",
       "      <th>2510</th>\n",
       "      <td>03/10/2010</td>\n",
       "      <td>32.1200</td>\n",
       "      <td>148907755.0</td>\n",
       "      <td>31.9757</td>\n",
       "      <td>32.2114</td>\n",
       "      <td>31.8857</td>\n",
       "    </tr>\n",
       "    <tr>\n",
       "      <th>2511</th>\n",
       "      <td>03/09/2010</td>\n",
       "      <td>31.8600</td>\n",
       "      <td>229908139.0</td>\n",
       "      <td>31.1871</td>\n",
       "      <td>32.1428</td>\n",
       "      <td>31.1271</td>\n",
       "    </tr>\n",
       "    <tr>\n",
       "      <th>2512</th>\n",
       "      <td>03/08/2010</td>\n",
       "      <td>31.2971</td>\n",
       "      <td>107326832.0</td>\n",
       "      <td>31.4300</td>\n",
       "      <td>31.4414</td>\n",
       "      <td>31.1786</td>\n",
       "    </tr>\n",
       "    <tr>\n",
       "      <th>2513</th>\n",
       "      <td>03/05/2010</td>\n",
       "      <td>31.2786</td>\n",
       "      <td>224647427.0</td>\n",
       "      <td>30.7057</td>\n",
       "      <td>31.3857</td>\n",
       "      <td>30.6614</td>\n",
       "    </tr>\n",
       "    <tr>\n",
       "      <th>2514</th>\n",
       "      <td>03/04/2010</td>\n",
       "      <td>30.1014</td>\n",
       "      <td>89591907.0</td>\n",
       "      <td>29.8971</td>\n",
       "      <td>30.1314</td>\n",
       "      <td>29.8043</td>\n",
       "    </tr>\n",
       "    <tr>\n",
       "      <th>2515</th>\n",
       "      <td>03/03/2010</td>\n",
       "      <td>29.9043</td>\n",
       "      <td>92846488.0</td>\n",
       "      <td>29.8486</td>\n",
       "      <td>29.9814</td>\n",
       "      <td>29.7057</td>\n",
       "    </tr>\n",
       "    <tr>\n",
       "      <th>2516</th>\n",
       "      <td>03/02/2010</td>\n",
       "      <td>29.8357</td>\n",
       "      <td>141486282.0</td>\n",
       "      <td>29.9900</td>\n",
       "      <td>30.1186</td>\n",
       "      <td>29.6771</td>\n",
       "    </tr>\n",
       "    <tr>\n",
       "      <th>2517</th>\n",
       "      <td>03/01/2010</td>\n",
       "      <td>29.8557</td>\n",
       "      <td>137312041.0</td>\n",
       "      <td>29.3928</td>\n",
       "      <td>29.9286</td>\n",
       "      <td>29.3500</td>\n",
       "    </tr>\n",
       "  </tbody>\n",
       "</table>\n",
       "</div>"
      ],
      "text/plain": [
       "            Date   Close/Last       Volume     Open     High      Low\n",
       "2508  03/12/2010      32.3714  103841951.0  32.4814  32.5328  32.2500\n",
       "2509  03/11/2010      32.2143  101209110.0  31.9871  32.2143  31.9028\n",
       "2510  03/10/2010      32.1200  148907755.0  31.9757  32.2114  31.8857\n",
       "2511  03/09/2010      31.8600  229908139.0  31.1871  32.1428  31.1271\n",
       "2512  03/08/2010      31.2971  107326832.0  31.4300  31.4414  31.1786\n",
       "2513  03/05/2010      31.2786  224647427.0  30.7057  31.3857  30.6614\n",
       "2514  03/04/2010      30.1014   89591907.0  29.8971  30.1314  29.8043\n",
       "2515  03/03/2010      29.9043   92846488.0  29.8486  29.9814  29.7057\n",
       "2516  03/02/2010      29.8357  141486282.0  29.9900  30.1186  29.6771\n",
       "2517  03/01/2010      29.8557  137312041.0  29.3928  29.9286  29.3500"
      ]
     },
     "execution_count": 37,
     "metadata": {},
     "output_type": "execute_result"
    }
   ],
   "source": [
    "begin_stock"
   ]
  },
  {
   "cell_type": "markdown",
   "metadata": {},
   "source": [
    "These are the bottom most values of the dataframe found using tail function."
   ]
  },
  {
   "cell_type": "markdown",
   "metadata": {},
   "source": [
    "#### Q4: Show the data of stocks of where open value is greater than 300."
   ]
  },
  {
   "cell_type": "code",
   "execution_count": 63,
   "metadata": {},
   "outputs": [],
   "source": [
    "greater_stock = stock_raw[' Open']>=300"
   ]
  },
  {
   "cell_type": "code",
   "execution_count": 69,
   "metadata": {},
   "outputs": [
    {
     "name": "stdout",
     "output_type": "stream",
     "text": [
      "Date            02/28/2020\n",
      " Close/Last         273.36\n",
      " Volume        106721200.0\n",
      " Open               257.26\n",
      " High               278.41\n",
      " Low                256.37\n",
      "Name: 0, dtype: object\n",
      "Date           02/27/2020\n",
      " Close/Last        273.52\n",
      " Volume        80151380.0\n",
      " Open               281.1\n",
      " High               286.0\n",
      " Low               272.96\n",
      "Name: 1, dtype: object\n",
      "Date           02/26/2020\n",
      " Close/Last        292.65\n",
      " Volume        49678430.0\n",
      " Open              286.53\n",
      " High              297.88\n",
      " Low                286.5\n",
      "Name: 2, dtype: object\n",
      "Date           02/25/2020\n",
      " Close/Last        288.08\n",
      " Volume        57668360.0\n",
      " Open              300.95\n",
      " High              302.53\n",
      " Low               286.13\n",
      "Name: 3, dtype: object\n",
      "Date           02/24/2020\n",
      " Close/Last        298.18\n",
      " Volume        55548830.0\n",
      " Open              297.26\n",
      " High              304.18\n",
      " Low               289.23\n",
      "Name: 4, dtype: object\n",
      "Date           02/21/2020\n",
      " Close/Last        313.05\n",
      " Volume        32426420.0\n",
      " Open              318.62\n",
      " High              320.45\n",
      " Low                310.5\n",
      "Name: 5, dtype: object\n",
      "Date           02/20/2020\n",
      " Close/Last         320.3\n",
      " Volume        25141490.0\n",
      " Open              322.63\n",
      " High              324.65\n",
      " Low               318.21\n",
      "Name: 6, dtype: object\n",
      "Date           02/19/2020\n",
      " Close/Last        323.62\n",
      " Volume        23495990.0\n",
      " Open               320.0\n",
      " High              324.57\n",
      " Low                320.0\n",
      "Name: 7, dtype: object\n",
      "Date           02/18/2020\n",
      " Close/Last         319.0\n",
      " Volume        38190550.0\n",
      " Open              315.36\n",
      " High              319.75\n",
      " Low               314.61\n",
      "Name: 8, dtype: object\n",
      "Date           02/14/2020\n",
      " Close/Last        324.95\n",
      " Volume        20028450.0\n",
      " Open              324.74\n",
      " High              325.98\n",
      " Low               322.85\n",
      "Name: 9, dtype: object\n",
      "Date           02/13/2020\n",
      " Close/Last        324.87\n",
      " Volume        23686890.0\n",
      " Open              324.19\n",
      " High              326.22\n",
      " Low               323.35\n",
      "Name: 10, dtype: object\n",
      "Date           02/12/2020\n",
      " Close/Last         327.2\n",
      " Volume        28432570.0\n",
      " Open              321.47\n",
      " High              327.22\n",
      " Low               321.47\n",
      "Name: 11, dtype: object\n",
      "Date           02/11/2020\n",
      " Close/Last        319.61\n",
      " Volume        23580780.0\n",
      " Open               323.6\n",
      " High               323.9\n",
      " Low               318.71\n",
      "Name: 12, dtype: object\n",
      "Date           02/10/2020\n",
      " Close/Last        321.55\n",
      " Volume        27337220.0\n",
      " Open              314.18\n",
      " High              321.55\n",
      " Low               313.85\n",
      "Name: 13, dtype: object\n",
      "Date           02/07/2020\n",
      " Close/Last        320.03\n",
      " Volume        29421010.0\n",
      " Open              322.37\n",
      " High               323.4\n",
      " Low                318.0\n",
      "Name: 14, dtype: object\n",
      "Date           02/06/2020\n",
      " Close/Last        325.21\n",
      " Volume        26356390.0\n",
      " Open              322.57\n",
      " High              325.22\n",
      " Low             320.2648\n",
      "Name: 15, dtype: object\n",
      "Date           02/05/2020\n",
      " Close/Last        321.45\n",
      " Volume        29706720.0\n",
      " Open              323.52\n",
      " High              324.76\n",
      " Low               318.95\n",
      "Name: 16, dtype: object\n",
      "Date           02/04/2020\n",
      " Close/Last        318.85\n",
      " Volume        34154130.0\n",
      " Open              315.31\n",
      " High              319.64\n",
      " Low             313.6345\n",
      "Name: 17, dtype: object\n",
      "Date           02/03/2020\n",
      " Close/Last        308.66\n",
      " Volume        43496400.0\n",
      " Open               304.3\n",
      " High              313.49\n",
      " Low               302.22\n",
      "Name: 18, dtype: object\n",
      "Date           01/31/2020\n",
      " Close/Last        309.51\n",
      " Volume        49897100.0\n",
      " Open              320.93\n",
      " High              322.68\n",
      " Low               308.29\n",
      "Name: 19, dtype: object\n",
      "Date           01/30/2020\n",
      " Close/Last        323.87\n",
      " Volume        31685810.0\n",
      " Open             320.544\n",
      " High              324.09\n",
      " Low               318.75\n",
      "Name: 20, dtype: object\n",
      "Date           01/29/2020\n",
      " Close/Last        324.34\n",
      " Volume        54149930.0\n",
      " Open              324.45\n",
      " High              327.85\n",
      " Low               321.38\n",
      "Name: 21, dtype: object\n",
      "Date           01/28/2020\n",
      " Close/Last        317.69\n",
      " Volume        40558490.0\n",
      " Open               312.6\n",
      " High               318.4\n",
      " Low               312.19\n",
      "Name: 22, dtype: object\n",
      "Date           01/27/2020\n",
      " Close/Last        308.95\n",
      " Volume        40485010.0\n",
      " Open              310.06\n",
      " High              311.77\n",
      " Low               304.88\n",
      "Name: 23, dtype: object\n",
      "Date           01/24/2020\n",
      " Close/Last        318.31\n",
      " Volume        36634380.0\n",
      " Open              320.25\n",
      " High              323.33\n",
      " Low             317.5188\n",
      "Name: 24, dtype: object\n",
      "Date           01/23/2020\n",
      " Close/Last        319.23\n",
      " Volume        26117990.0\n",
      " Open              317.92\n",
      " High              319.56\n",
      " Low               315.65\n",
      "Name: 25, dtype: object\n",
      "Date           01/22/2020\n",
      " Close/Last         317.7\n",
      " Volume        25458120.0\n",
      " Open              318.58\n",
      " High              319.99\n",
      " Low               317.31\n",
      "Name: 26, dtype: object\n",
      "Date           01/21/2020\n",
      " Close/Last        316.57\n",
      " Volume        27710810.0\n",
      " Open              317.19\n",
      " High              319.02\n",
      " Low                316.0\n",
      "Name: 27, dtype: object\n",
      "Date           01/17/2020\n",
      " Close/Last        318.73\n",
      " Volume        34454120.0\n",
      " Open              316.27\n",
      " High              318.74\n",
      " Low                315.0\n",
      "Name: 28, dtype: object\n",
      "Date           01/16/2020\n",
      " Close/Last        315.24\n",
      " Volume        27207250.0\n",
      " Open              313.59\n",
      " High               315.7\n",
      " Low               312.09\n",
      "Name: 29, dtype: object\n",
      "Date           01/15/2020\n",
      " Close/Last        311.34\n",
      " Volume        30480880.0\n",
      " Open              311.85\n",
      " High               315.5\n",
      " Low               309.55\n",
      "Name: 30, dtype: object\n"
     ]
    }
   ],
   "source": [
    "c = 0\n",
    "for i in greater_stock:\n",
    "    if i == True:\n",
    "        print(stock_raw.iloc[c])\n",
    "    else:\n",
    "        continue\n",
    "    c+=1"
   ]
  },
  {
   "cell_type": "markdown",
   "metadata": {},
   "source": [
    "This is the data where the open value of share has been higher than 300 on a day to day basis."
   ]
  },
  {
   "cell_type": "markdown",
   "metadata": {},
   "source": [
    "#### Q5: Show the close values of stock every day and draw conclusion from it."
   ]
  },
  {
   "cell_type": "code",
   "execution_count": 70,
   "metadata": {},
   "outputs": [
    {
     "name": "stderr",
     "output_type": "stream",
     "text": [
      "/opt/conda/lib/python3.9/site-packages/seaborn/_decorators.py:36: FutureWarning: Pass the following variables as keyword args: x, y. From version 0.12, the only valid positional argument will be `data`, and passing other arguments without an explicit keyword will result in an error or misinterpretation.\n",
      "  warnings.warn(\n"
     ]
    },
    {
     "data": {
      "text/plain": [
       "<AxesSubplot:xlabel='Date', ylabel=' Close/Last'>"
      ]
     },
     "execution_count": 70,
     "metadata": {},
     "output_type": "execute_result"
    },
    {
     "data": {
      "image/png": "[encoded data removed]",
      "text/plain": [
       "<Figure size 648x360 with 1 Axes>"
      ]
     },
     "metadata": {
      "needs_background": "light"
     },
     "output_type": "display_data"
    }
   ],
   "source": [
    "sns.scatterplot(stock_raw['Date'],stock_raw[' Close/Last'])"
   ]
  },
  {
   "cell_type": "markdown",
   "metadata": {},
   "source": [
    "As the date starts from year 2020 and ends in 2010, the decreasing graph shows that the apple stock has had an increasing trend over the years excluding some time frames. The close value of stock has almost always been on the rise as the data is in reverse data format thats why it shows a decreasing trend."
   ]
  },
  {
   "cell_type": "markdown",
   "metadata": {},
   "source": [
    "Let us save and upload our work to Jovian before continuing."
   ]
  },
  {
   "cell_type": "code",
   "execution_count": 71,
   "metadata": {},
   "outputs": [],
   "source": [
    "import jovian"
   ]
  },
  {
   "cell_type": "code",
   "execution_count": 72,
   "metadata": {},
   "outputs": [
    {
     "data": {
      "application/javascript": [
       "window.require && require([\"base/js/namespace\"],function(Jupyter){Jupyter.notebook.save_checkpoint()})"
      ],
      "text/plain": [
       "<IPython.core.display.Javascript object>"
      ]
     },
     "metadata": {},
     "output_type": "display_data"
    },
    {
     "name": "stdout",
     "output_type": "stream",
     "text": [
      "[jovian] Updating notebook \"ayushch01ac/my-apple-stock-project\" on https://jovian.ai\u001b[0m\n",
      "[jovian] Committed successfully! https://jovian.ai/ayushch01ac/my-apple-stock-project\u001b[0m\n"
     ]
    },
    {
     "data": {
      "text/plain": [
       "'https://jovian.ai/ayushch01ac/my-apple-stock-project'"
      ]
     },
     "execution_count": 72,
     "metadata": {},
     "output_type": "execute_result"
    }
   ],
   "source": [
    "jovian.commit()"
   ]
  },
  {
   "cell_type": "markdown",
   "metadata": {},
   "source": [
    "## Inferences and Conclusion\n",
    "\n",
    "We took the Apple Stock Data from Kaggle and analyzed the data using pandas, matplotlib and seaborn. We plotted various graphs and sorted many values and a conclusion can be drawn that a buy of apple stock has bee worth it for the investors and they can continue to buy it in the future."
   ]
  },
  {
   "cell_type": "code",
   "execution_count": 73,
   "metadata": {},
   "outputs": [],
   "source": [
    "import jovian"
   ]
  },
  {
   "cell_type": "code",
   "execution_count": 74,
   "metadata": {},
   "outputs": [
    {
     "data": {
      "application/javascript": [
       "window.require && require([\"base/js/namespace\"],function(Jupyter){Jupyter.notebook.save_checkpoint()})"
      ],
      "text/plain": [
       "<IPython.core.display.Javascript object>"
      ]
     },
     "metadata": {},
     "output_type": "display_data"
    },
    {
     "name": "stdout",
     "output_type": "stream",
     "text": [
      "[jovian] Updating notebook \"ayushch01ac/my-apple-stock-project\" on https://jovian.ai\u001b[0m\n",
      "[jovian] Committed successfully! https://jovian.ai/ayushch01ac/my-apple-stock-project\u001b[0m\n"
     ]
    },
    {
     "data": {
      "text/plain": [
       "'https://jovian.ai/ayushch01ac/my-apple-stock-project'"
      ]
     },
     "execution_count": 74,
     "metadata": {},
     "output_type": "execute_result"
    }
   ],
   "source": [
    "jovian.commit()"
   ]
  },
  {
   "cell_type": "markdown",
   "metadata": {},
   "source": [
    "## References and Future Work\n",
    "References:\n",
    "The dataset has been taken from Kaggle and the instructions required to perform analysis have been learnt by studying from jovian.ai course Data Analysis: Zero to Pandas.\n",
    "Future work:\n",
    "This project can be updated using a present dataset which provides the values of stock data after 2020. More information can be added into the dataset like if there was some major apple event at the day of exponential stock price increase etc. "
   ]
  },
  {
   "cell_type": "code",
   "execution_count": 75,
   "metadata": {},
   "outputs": [],
   "source": [
    "import jovian"
   ]
  },
  {
   "cell_type": "code",
   "execution_count": null,
   "metadata": {
    "scrolled": true
   },
   "outputs": [
    {
     "data": {
      "application/javascript": [
       "window.require && require([\"base/js/namespace\"],function(Jupyter){Jupyter.notebook.save_checkpoint()})"
      ],
      "text/plain": [
       "<IPython.core.display.Javascript object>"
      ]
     },
     "metadata": {},
     "output_type": "display_data"
    }
   ],
   "source": [
    "jovian.commit()"
   ]
  },
  {
   "cell_type": "code",
   "execution_count": null,
   "metadata": {},
   "outputs": [],
   "source": []
  }
 ],
 "metadata": {
  "language_info": {
   "codemirror_mode": {
    "name": "ipython",
    "version": 3
   },
   "file_extension": ".py",
   "mimetype": "text/x-python",
   "name": "python",
   "nbconvert_exporter": "python",
   "pygments_lexer": "ipython3",
   "version": "3.9.6"
  }
 },
 "nbformat": 4,
 "nbformat_minor": 4
}